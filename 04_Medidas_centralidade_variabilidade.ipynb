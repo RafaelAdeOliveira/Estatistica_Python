{
 "cells": [
  {
   "cell_type": "markdown",
   "id": "56648e13-0547-46aa-b739-ceac4786d15f",
   "metadata": {},
   "source": [
    "# Formação Cientista de Dados - Rafael Amaral de Oliveira\n",
    "# Medidas de Centralidade e Variabilidade"
   ]
  },
  {
   "cell_type": "code",
   "execution_count": 2,
   "id": "6e8805a1-5278-4e90-a123-978406fee7cc",
   "metadata": {},
   "outputs": [],
   "source": [
    "# Importação das bibliotecas: scipy para gerar estatísticas mais detalhadas\n",
    "import numpy as np\n",
    "from scipy import stats"
   ]
  },
  {
   "cell_type": "code",
   "execution_count": 3,
   "id": "66db4194-35cc-4959-a267-fd57cca1c864",
   "metadata": {},
   "outputs": [
    {
     "data": {
      "text/plain": [
       "181111.11111111112"
      ]
     },
     "execution_count": 3,
     "metadata": {},
     "output_type": "execute_result"
    }
   ],
   "source": [
    "# Criação da variável com os dados dos jogadores, visualização da mediana e média\n",
    "jogadores = [40000,18000,12000,250000,30000,140000,300000,40000,800000]\n",
    "np.mean(jogadores)"
   ]
  },
  {
   "cell_type": "code",
   "execution_count": 4,
   "id": "b4c43725-7a3b-4168-88af-f68f4d94faff",
   "metadata": {},
   "outputs": [
    {
     "data": {
      "text/plain": [
       "40000.0"
      ]
     },
     "execution_count": 4,
     "metadata": {},
     "output_type": "execute_result"
    }
   ],
   "source": [
    "np.median(jogadores)"
   ]
  },
  {
   "cell_type": "code",
   "execution_count": 5,
   "id": "70e3d7c1-b4e7-4d6f-8285-a023682e4abd",
   "metadata": {},
   "outputs": [
    {
     "data": {
      "text/plain": [
       "array([ 12000.,  30000.,  40000., 250000., 800000.])"
      ]
     },
     "execution_count": 5,
     "metadata": {},
     "output_type": "execute_result"
    }
   ],
   "source": [
    "# Criação da variável para geração dos quartis (0%, 25%, 50%, 75% e 100%)\n",
    "quartis = np.quantile(jogadores, [0,0.25,0.5,0.75,1])\n",
    "quartis"
   ]
  },
  {
   "cell_type": "code",
   "execution_count": 6,
   "id": "85126a26-8bbc-4191-b362-4393c0cdad3c",
   "metadata": {},
   "outputs": [
    {
     "data": {
      "text/plain": [
       "255307.87514511007"
      ]
     },
     "execution_count": 6,
     "metadata": {},
     "output_type": "execute_result"
    }
   ],
   "source": [
    "# Visualização do desvio padrão\n",
    "np.std(jogadores, ddof = 1)"
   ]
  },
  {
   "cell_type": "code",
   "execution_count": 7,
   "id": "36f48e5e-5c7e-419d-8fe0-604297752d4b",
   "metadata": {},
   "outputs": [
    {
     "data": {
      "text/plain": [
       "DescribeResult(nobs=9, minmax=(12000, 800000), mean=181111.11111111112, variance=65182111111.11111, skewness=1.758635899846188, kurtosis=1.9572075427527729)"
      ]
     },
     "execution_count": 7,
     "metadata": {},
     "output_type": "execute_result"
    }
   ],
   "source": [
    "# Visualização de estatísticas mais detalhadas usando a biblioteca scipy\n",
    "stats.describe(jogadores)"
   ]
  },
  {
   "cell_type": "code",
   "execution_count": null,
   "id": "4329b958-348c-4750-94e3-b0603dd2efc5",
   "metadata": {},
   "outputs": [],
   "source": []
  }
 ],
 "metadata": {
  "kernelspec": {
   "display_name": "Python 3",
   "language": "python",
   "name": "python3"
  },
  "language_info": {
   "codemirror_mode": {
    "name": "ipython",
    "version": 3
   },
   "file_extension": ".py",
   "mimetype": "text/x-python",
   "name": "python",
   "nbconvert_exporter": "python",
   "pygments_lexer": "ipython3",
   "version": "3.8.8"
  }
 },
 "nbformat": 4,
 "nbformat_minor": 5
}
