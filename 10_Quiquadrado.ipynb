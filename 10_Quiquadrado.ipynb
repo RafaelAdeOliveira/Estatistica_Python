{
 "cells": [
  {
   "cell_type": "markdown",
   "id": "33c5f6cd-b432-4611-9f84-e20a055ec22e",
   "metadata": {},
   "source": [
    "## Formação Cientista de Dados - Rafael Amaral de Oliveira\n",
    "### Qui-quadrado"
   ]
  },
  {
   "cell_type": "code",
   "execution_count": 1,
   "id": "bf352411-3677-43f0-b97e-56593833b17c",
   "metadata": {},
   "outputs": [],
   "source": [
    "# Importação das funções, chi2_contingency porque ter 2 categorias\n",
    "import numpy as np\n",
    "from scipy.stats import chi2_contingency"
   ]
  },
  {
   "cell_type": "code",
   "execution_count": 2,
   "id": "72a6816d-db66-40f0-86db-f8a2cfed393d",
   "metadata": {},
   "outputs": [
    {
     "data": {
      "text/plain": [
       "array([[19,  6],\n",
       "       [43, 32]])"
      ]
     },
     "execution_count": 2,
     "metadata": {},
     "output_type": "execute_result"
    }
   ],
   "source": [
    "# Criação da matriz com os dados e execução do teste\n",
    "novela = np.array([[19,6], [43,32]])\n",
    "novela"
   ]
  },
  {
   "cell_type": "code",
   "execution_count": 3,
   "id": "0a28fb5b-3118-4d98-a3a3-ea511db53b57",
   "metadata": {},
   "outputs": [
    {
     "data": {
      "text/plain": [
       "(2.037351443123939,\n",
       " 0.15347667161786666,\n",
       " 1,\n",
       " array([[15.5,  9.5],\n",
       "        [46.5, 28.5]]))"
      ]
     },
     "execution_count": 3,
     "metadata": {},
     "output_type": "execute_result"
    }
   ],
   "source": [
    "# Segundo valor é o pvalue\n",
    "# Valor de p é maior que 0,05 não há evidências de diferença significativa (hipótese nula): não há diferença significativa\n",
    "chi2_contingency(novela)"
   ]
  },
  {
   "cell_type": "code",
   "execution_count": 4,
   "id": "36903f3a-a74b-4168-9ff0-073ea0fb1244",
   "metadata": {},
   "outputs": [
    {
     "data": {
      "text/plain": [
       "array([[22,  3],\n",
       "       [43, 32]])"
      ]
     },
     "execution_count": 4,
     "metadata": {},
     "output_type": "execute_result"
    }
   ],
   "source": [
    "novela2 = np.array([[22,3], [43,32]])\n",
    "novela2"
   ]
  },
  {
   "cell_type": "code",
   "execution_count": 5,
   "id": "e3ad9645-8eb0-46af-93c7-9c03b55e7b4c",
   "metadata": {},
   "outputs": [
    {
     "data": {
      "text/plain": [
       "(6.461538461538461,\n",
       " 0.011023416388221425,\n",
       " 1,\n",
       " array([[16.25,  8.75],\n",
       "        [48.75, 26.25]]))"
      ]
     },
     "execution_count": 5,
     "metadata": {},
     "output_type": "execute_result"
    }
   ],
   "source": [
    "# agora valor de p menor que 0,05, podemos rejeitar a hipótese nula em favor da hipótese alternativa: há diferença significativa\n",
    "chi2_contingency(novela2)"
   ]
  },
  {
   "cell_type": "code",
   "execution_count": null,
   "id": "b1731c17-aaa3-4200-b1f1-52d0f3a3c8ee",
   "metadata": {},
   "outputs": [],
   "source": []
  }
 ],
 "metadata": {
  "kernelspec": {
   "display_name": "Python 3",
   "language": "python",
   "name": "python3"
  },
  "language_info": {
   "codemirror_mode": {
    "name": "ipython",
    "version": 3
   },
   "file_extension": ".py",
   "mimetype": "text/x-python",
   "name": "python",
   "nbconvert_exporter": "python",
   "pygments_lexer": "ipython3",
   "version": "3.8.8"
  }
 },
 "nbformat": 4,
 "nbformat_minor": 5
}
