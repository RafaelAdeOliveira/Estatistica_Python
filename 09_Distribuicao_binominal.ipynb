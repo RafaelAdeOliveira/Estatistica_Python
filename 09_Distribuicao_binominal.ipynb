{
 "cells": [
  {
   "cell_type": "markdown",
   "id": "6d940ea2-7c0e-428b-9d9f-6a8afebce914",
   "metadata": {},
   "source": [
    "## Formação Cientista de Dados - Rafael Amaral de Oliveira\n",
    "### Distribuiçao de Binominal"
   ]
  },
  {
   "cell_type": "code",
   "execution_count": 1,
   "id": "56cb9b79-70dd-4488-b482-947e326e9f79",
   "metadata": {},
   "outputs": [],
   "source": [
    "# Importação da função binom\n",
    "from scipy.stats import binom"
   ]
  },
  {
   "cell_type": "code",
   "execution_count": 2,
   "id": "7d139847-d364-4864-aa81-c0b86d9bf04f",
   "metadata": {},
   "outputs": [
    {
     "data": {
      "text/plain": [
       "0.3125"
      ]
     },
     "execution_count": 2,
     "metadata": {},
     "output_type": "execute_result"
    }
   ],
   "source": [
    "# Jogar uma moeda 5 vezes, qual a prob. de dar cara 3 vezes?\n",
    "# eventos, experimentos, prob\n",
    "prob = binom.pmf(3, 5, 0.5)\n",
    "prob"
   ]
  },
  {
   "cell_type": "code",
   "execution_count": 9,
   "id": "f71e5e95-573a-4917-8d7f-a90b48125de1",
   "metadata": {},
   "outputs": [
    {
     "data": {
      "text/plain": [
       "0.31640625000000006"
      ]
     },
     "execution_count": 9,
     "metadata": {},
     "output_type": "execute_result"
    }
   ],
   "source": [
    "# Passar por 4 sinais de 4 tempos, qual a prob. de pegar sinal verde\n",
    "# 0, 1, 2, 3 ou 4 vezes seguidas?\n",
    "binom.pmf(0, 4, 0.25) + binom.pmf(1, 4, 0.25) + binom.pmf(2, 4, 0.25) + binom.pmf(3, 4, 0.25) + binom.pmf(4, 4, 0.25)\n"
   ]
  },
  {
   "cell_type": "code",
   "execution_count": 4,
   "id": "457e960f-ae3f-4747-a385-ea727688535c",
   "metadata": {},
   "outputs": [
    {
     "data": {
      "text/plain": [
       "0.0625"
      ]
     },
     "execution_count": 4,
     "metadata": {},
     "output_type": "execute_result"
    }
   ],
   "source": [
    "# E se forem sinais de dois tempos?\n",
    "binom.pmf(4, 4, 0.5)"
   ]
  },
  {
   "cell_type": "code",
   "execution_count": 10,
   "id": "b96eae83-91f1-4400-adaa-d4b6e710824e",
   "metadata": {},
   "outputs": [
    {
     "data": {
      "text/plain": [
       "0.94921875"
      ]
     },
     "execution_count": 10,
     "metadata": {},
     "output_type": "execute_result"
    }
   ],
   "source": [
    "# Probabilidade acumulativa\n",
    "binom.cdf(2, 4, 0.25)"
   ]
  },
  {
   "cell_type": "code",
   "execution_count": 12,
   "id": "e33f7f8b-f54b-4a83-ae05-c923441eb76b",
   "metadata": {},
   "outputs": [
    {
     "data": {
      "text/plain": [
       "0.011471271514892573"
      ]
     },
     "execution_count": 12,
     "metadata": {},
     "output_type": "execute_result"
    }
   ],
   "source": [
    "# Concurso com 12 questões, qual a prob. de acertar 7 questões considerando\n",
    "# que cada questão tem 4 alternativas?\n",
    "binom.pmf(7, 12, 0.25)"
   ]
  },
  {
   "cell_type": "code",
   "execution_count": 11,
   "id": "0e009cfe-a5d8-4398-9c81-fc1caca3df5a",
   "metadata": {},
   "outputs": [
    {
     "data": {
      "text/plain": [
       "5.960464477539072e-08"
      ]
     },
     "execution_count": 11,
     "metadata": {},
     "output_type": "execute_result"
    }
   ],
   "source": [
    "# Probabilidade de acertar as 12 questões\n",
    "binom.pmf(12, 12, 0.25)"
   ]
  },
  {
   "cell_type": "code",
   "execution_count": null,
   "id": "d1afe1f5-9422-40a1-b538-7b23ee3c8c33",
   "metadata": {},
   "outputs": [],
   "source": []
  }
 ],
 "metadata": {
  "kernelspec": {
   "display_name": "Python 3",
   "language": "python",
   "name": "python3"
  },
  "language_info": {
   "codemirror_mode": {
    "name": "ipython",
    "version": 3
   },
   "file_extension": ".py",
   "mimetype": "text/x-python",
   "name": "python",
   "nbconvert_exporter": "python",
   "pygments_lexer": "ipython3",
   "version": "3.8.8"
  }
 },
 "nbformat": 4,
 "nbformat_minor": 5
}
