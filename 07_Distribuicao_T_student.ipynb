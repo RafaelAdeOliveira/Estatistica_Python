{
 "cells": [
  {
   "cell_type": "markdown",
   "id": "d70d3204-056a-4a7c-b1a8-f09e3892b03c",
   "metadata": {},
   "source": [
    "## Formação Cientista de Dados - Rafael Amaral de Oliveira\n",
    "### Distribuiçao T Student"
   ]
  },
  {
   "cell_type": "code",
   "execution_count": 7,
   "id": "471beaa4-87cd-4fee-bbf7-6dd86b667ee6",
   "metadata": {},
   "outputs": [],
   "source": [
    "# Importação da função para fazer o teste T student\n",
    "from scipy.stats import t"
   ]
  },
  {
   "cell_type": "markdown",
   "id": "d224a263-62d2-4f69-a631-c91576cfdfc6",
   "metadata": {},
   "source": [
    "Média de salário dos cientistas de dados = R$ 75,00 por hora Amostra com 9 funcionários e desvio padrão = 10"
   ]
  },
  {
   "cell_type": "code",
   "execution_count": 4,
   "id": "7ed8cc46-34f9-450d-a338-7379d4fb322b",
   "metadata": {},
   "outputs": [
    {
     "data": {
      "text/plain": [
       "0.9139983540240443"
      ]
     },
     "execution_count": 4,
     "metadata": {},
     "output_type": "execute_result"
    }
   ],
   "source": [
    "# Qual a probabilidade de selecionar um cientista de dados e o salário ser menor que R$ 80,00 por hora (t.cdf = olhar esquerda)\n",
    "t.cdf(1.5, 8)"
   ]
  },
  {
   "cell_type": "code",
   "execution_count": 5,
   "id": "b586cde8-5d74-4c5c-a554-497099d9ee8d",
   "metadata": {},
   "outputs": [
    {
     "data": {
      "text/plain": [
       "0.08600164597595565"
      ]
     },
     "execution_count": 5,
     "metadata": {},
     "output_type": "execute_result"
    }
   ],
   "source": [
    "# Qual a probabilidade do salário ser MAIOR do que R$ 80,00? (t.sf = olhar direita)\n",
    "t.sf(1.5, 8)"
   ]
  },
  {
   "cell_type": "code",
   "execution_count": 6,
   "id": "dd78aa3d-ca72-4fc7-9457-324503ccd4f0",
   "metadata": {},
   "outputs": [
    {
     "data": {
      "text/plain": [
       "0.9999999999999999"
      ]
     },
     "execution_count": 6,
     "metadata": {},
     "output_type": "execute_result"
    }
   ],
   "source": [
    "# Somatória da execução dos dois códigos acima ( Lado esquerdo + lado direito da distribuição)\n",
    "t.cdf(1.5 ,8) + t.sf(1.5, 8)"
   ]
  },
  {
   "cell_type": "code",
   "execution_count": null,
   "id": "23b0b176-28fa-4fa9-941e-d61c152bef92",
   "metadata": {},
   "outputs": [],
   "source": []
  }
 ],
 "metadata": {
  "kernelspec": {
   "display_name": "Python 3",
   "language": "python",
   "name": "python3"
  },
  "language_info": {
   "codemirror_mode": {
    "name": "ipython",
    "version": 3
   },
   "file_extension": ".py",
   "mimetype": "text/x-python",
   "name": "python",
   "nbconvert_exporter": "python",
   "pygments_lexer": "ipython3",
   "version": "3.8.8"
  }
 },
 "nbformat": 4,
 "nbformat_minor": 5
}
